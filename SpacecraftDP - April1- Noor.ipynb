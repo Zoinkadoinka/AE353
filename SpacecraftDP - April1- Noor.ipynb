{
 "cells": [
  {
   "cell_type": "markdown",
   "id": "d4dd0bbc",
   "metadata": {},
   "source": [
    "# Spacecraft with reaction wheels and star tracker"
   ]
  },
  {
   "cell_type": "markdown",
   "id": "1ed3f7df",
   "metadata": {},
   "source": [
    "Import modules and configure the notebook."
   ]
  },
  {
   "cell_type": "code",
   "execution_count": 1,
   "id": "9ee2cbb1",
   "metadata": {},
   "outputs": [
    {
     "name": "stderr",
     "output_type": "stream",
     "text": [
      "pybullet build time: Jan 28 2022 20:18:15\n"
     ]
    }
   ],
   "source": [
    "# Standard modules\n",
    "import time\n",
    "import numpy as np\n",
    "import matplotlib.pyplot as plt\n",
    "import sympy as sym\n",
    "from scipy import linalg\n",
    "\n",
    "# My own script (an interface to the simulator)\n",
    "import ae353_spacecraft"
   ]
  },
  {
   "cell_type": "markdown",
   "id": "36f1ec01",
   "metadata": {},
   "source": [
    "Create an instance of the `Simulator` class, which is an interface to the [pybullet](http://pybullet.org) simulation engine.\n",
    "\n",
    "Here are two optional arguments you may want to use:\n",
    "\n",
    "* `display` (`True` or `False`) is whether or not to show the simulation window;\n",
    "* `seed` (an integer, default `None`) is a seed to initialize the random number generator used by the simulator.\n",
    "\n",
    "**You must evaluate this cell only *once*.** If you want to start fresh with a new simulator, you must do `Kernel -> Restart` from the notebook menu first. If you evaluate this cell more than once without a call to `Kernel -> Restart` then you may get strange behavior that is hard to debug."
   ]
  },
  {
   "cell_type": "code",
   "execution_count": 2,
   "id": "89d0d5bb",
   "metadata": {},
   "outputs": [],
   "source": [
    "simulator = ae353_spacecraft.Simulator(\n",
    "    display=False,\n",
    "    seed=None,\n",
    ")"
   ]
  },
  {
   "cell_type": "markdown",
   "id": "ed3c481c",
   "metadata": {},
   "source": [
    "Here is how to find the location of each star:"
   ]
  },
  {
   "cell_type": "code",
   "execution_count": 3,
   "id": "9185857e",
   "metadata": {},
   "outputs": [
    {
     "name": "stdout",
     "output_type": "stream",
     "text": [
      "star 0 : alpha = -0.10 : delta = -0.15\n",
      "star 1 : alpha =  0.00 : delta = -0.15\n",
      "star 2 : alpha =  0.10 : delta = -0.15\n",
      "star 3 : alpha =  0.00 : delta =  0.00\n",
      "star 4 : alpha = -0.10 : delta =  0.15\n",
      "star 5 : alpha =  0.00 : delta =  0.15\n",
      "star 6 : alpha =  0.10 : delta =  0.15\n"
     ]
    }
   ],
   "source": [
    "ra = []\n",
    "dec = []\n",
    "for (i, star) in enumerate(simulator.stars):\n",
    "    ra.append(star['alpha'])\n",
    "    dec.append(star['delta'])\n",
    "    print(f'star {i} : alpha = {star[\"alpha\"]:5.2f} : delta = {star[\"delta\"]:5.2f}')"
   ]
  },
  {
   "cell_type": "markdown",
   "id": "fb944cbf",
   "metadata": {},
   "source": [
    "# Define the Equations of Motion"
   ]
  },
  {
   "cell_type": "markdown",
   "id": "e62f3c07",
   "metadata": {},
   "source": [
    "Define Physical Parameters"
   ]
  },
  {
   "cell_type": "code",
   "execution_count": 4,
   "id": "89dd970a",
   "metadata": {},
   "outputs": [],
   "source": [
    "# Mass and MOI of base\n",
    "mb = 6.\n",
    "Jxb = 10.\n",
    "Jyb = 10.\n",
    "Jzb = 16.\n",
    "\n",
    "# Mass and MOI of each wheel\n",
    "mw = 1.\n",
    "Jxw = 0.075\n",
    "Jyw = 0.075\n",
    "Jzw = 0.125\n",
    "lw = 1.1"
   ]
  },
  {
   "cell_type": "markdown",
   "id": "2690c17d",
   "metadata": {},
   "source": [
    "Derive the Equation of Motion"
   ]
  },
  {
   "cell_type": "code",
   "execution_count": 5,
   "id": "f8b59fa6",
   "metadata": {},
   "outputs": [],
   "source": [
    "# Define yaw, pitch, roll yaw angles\n",
    "psi, theta, phi = sym.symbols('psi, theta, phi')\n",
    "\n",
    "# Define angular velocities\n",
    "w_x, w_y, w_z = sym.symbols('w_x, w_y, w_z')\n",
    "\n",
    "# Define torques\n",
    "tau_1, tau_2, tau_3, tau_4 = sym.symbols('tau_1, tau_2, tau_3, tau_4')\n",
    "\n",
    "# Compute resultant torques\n",
    "lt = sym.nsimplify(lw) * sym.sqrt(2) / 2\n",
    "T1 = - tau_1 * sym.Matrix([[lt], [0], [lt]])\n",
    "T2 = - tau_2 * sym.Matrix([[-lt], [0], [lt]])\n",
    "T3 = - tau_3 * sym.Matrix([[0], [lt], [lt]])\n",
    "T4 = - tau_4 * sym.Matrix([[0], [-lt], [lt]])\n",
    "T = T1 + T2 + T3 + T4\n",
    "\n",
    "# Define MOI of spacecraft and wheels together\n",
    "Jx = sym.nsimplify(Jxb + 4 * mw * lw**2)\n",
    "Jy = sym.nsimplify(Jyb + 4 * mw * lw**2)\n",
    "Jz = sym.nsimplify(Jzb + 4 * mw * lw**2)\n",
    "\n",
    "# Define rotation matrices\n",
    "Rz = sym.Matrix([[sym.cos(psi), -sym.sin(psi), 0], [sym.sin(psi), sym.cos(psi), 0], [0, 0, 1]])\n",
    "Ry = sym.Matrix([[sym.cos(theta), 0, sym.sin(theta)], [0, 1, 0], [-sym.sin(theta), 0, sym.cos(theta)]])\n",
    "Rx = sym.Matrix([[1, 0, 0], [0, sym.cos(phi), -sym.sin(phi)], [0, sym.sin(phi), sym.cos(phi)]])\n",
    "\n",
    "# Define the transformation from angular velocity to angular rates\n",
    "ex = sym.Matrix([[1], [0], [0]])\n",
    "ey = sym.Matrix([[0], [1], [0]])\n",
    "ez = sym.Matrix([[0], [0], [1]])\n",
    "M = sym.simplify(sym.Matrix.hstack((Ry @ Rx).T @ ez, Rx.T @ ey, ex).inv(), full=True)\n",
    "\n",
    "# Define euler's equations\n",
    "euler = sym.Matrix([[(1 / Jx) * (T[0] + (Jy - Jz) * w_y * w_z)],\n",
    "                   [(1 / Jy) * (T[1] + (Jz - Jx) * w_z * w_x)],\n",
    "                   [(1 / Jz) * (T[2] + (Jx - Jy) * w_x * w_y)]])\n",
    "\n",
    "# Define equations of motion\n",
    "f = sym.simplify(sym.Matrix.vstack(M * sym.Matrix([[w_x], [w_y], [w_z]]), euler), full=True)"
   ]
  },
  {
   "cell_type": "markdown",
   "id": "141c3563",
   "metadata": {},
   "source": [
    "The equations of motion have this form:\n",
    "\n",
    "$$\\begin{bmatrix} \\dot{\\psi} \\\\ \\dot{\\theta} \\\\ \\dot{\\phi} \\\\ \\dot{w_x} \\\\ \\dot{w_y} \\\\ \\dot{w_z} \\end{bmatrix} = f\\left(\\psi, \\theta, \\phi, w_x, w_y, w_z, \\tau_1, \\tau_2, \\tau_3, \\tau_4\\right)$$\n",
    "\n",
    "Here is the function $f$:"
   ]
  },
  {
   "cell_type": "code",
   "execution_count": 6,
   "id": "e2929c4f",
   "metadata": {},
   "outputs": [
    {
     "data": {
      "text/latex": [
       "$\\displaystyle \\left[\\begin{matrix}\\frac{w_{y} \\sin{\\left(\\phi \\right)} + w_{z} \\cos{\\left(\\phi \\right)}}{\\cos{\\left(\\theta \\right)}}\\\\w_{y} \\cos{\\left(\\phi \\right)} - w_{z} \\sin{\\left(\\phi \\right)}\\\\w_{x} + w_{y} \\sin{\\left(\\phi \\right)} \\tan{\\left(\\theta \\right)} + w_{z} \\cos{\\left(\\phi \\right)} \\tan{\\left(\\theta \\right)}\\\\- \\frac{55 \\sqrt{2} \\tau_{1}}{1484} + \\frac{55 \\sqrt{2} \\tau_{2}}{1484} - \\frac{150 w_{y} w_{z}}{371}\\\\- \\frac{55 \\sqrt{2} \\tau_{3}}{1484} + \\frac{55 \\sqrt{2} \\tau_{4}}{1484} + \\frac{150 w_{x} w_{z}}{371}\\\\- \\frac{55 \\sqrt{2} \\left(\\tau_{1} + \\tau_{2} + \\tau_{3} + \\tau_{4}\\right)}{2084}\\end{matrix}\\right]$"
      ],
      "text/plain": [
       "Matrix([\n",
       "[                        (w_y*sin(phi) + w_z*cos(phi))/cos(theta)],\n",
       "[                                     w_y*cos(phi) - w_z*sin(phi)],\n",
       "[         w_x + w_y*sin(phi)*tan(theta) + w_z*cos(phi)*tan(theta)],\n",
       "[-55*sqrt(2)*tau_1/1484 + 55*sqrt(2)*tau_2/1484 - 150*w_y*w_z/371],\n",
       "[-55*sqrt(2)*tau_3/1484 + 55*sqrt(2)*tau_4/1484 + 150*w_x*w_z/371],\n",
       "[                -55*sqrt(2)*(tau_1 + tau_2 + tau_3 + tau_4)/2084]])"
      ]
     },
     "execution_count": 6,
     "metadata": {},
     "output_type": "execute_result"
    }
   ],
   "source": [
    "f"
   ]
  },
  {
   "cell_type": "markdown",
   "id": "0d56007a",
   "metadata": {},
   "source": [
    "## Sensor Model"
   ]
  },
  {
   "cell_type": "code",
   "execution_count": 7,
   "id": "e7c42fd7",
   "metadata": {},
   "outputs": [],
   "source": [
    "alpha, delta = sym.symbols('alpha, delta')\n",
    "\n",
    "# Define the Physical Parameters\n",
    "# Scope radius\n",
    "r = 0.8 / 2.1"
   ]
  },
  {
   "cell_type": "markdown",
   "id": "1e6596e1",
   "metadata": {},
   "source": [
    "Derive the Sensor Model"
   ]
  },
  {
   "cell_type": "code",
   "execution_count": 8,
   "id": "e4ac5177",
   "metadata": {},
   "outputs": [],
   "source": [
    "def g_matrix(alpha,delta):\n",
    "    # Position of star in space frame\n",
    "    p_star_in_space = sym.Matrix([[sym.cos(alpha) * sym.cos(delta)],\n",
    "                                  [sym.sin(alpha) * sym.cos(delta)],\n",
    "                                  [sym.sin(delta)]])\n",
    "\n",
    "    # Orientation of body frame in space frame\n",
    "    R_body_in_space = Rz * Ry * Rx\n",
    "\n",
    "    # Position of star in body frame (assuming origin of body and space frames are the same)\n",
    "    p_star_in_body = R_body_in_space.T * p_star_in_space\n",
    "\n",
    "    # Position of star in image frame\n",
    "    p_star_in_image = (1 / sym.nsimplify(r)) * sym.Matrix([[p_star_in_body[1] / p_star_in_body[0]],\n",
    "                                                           [p_star_in_body[2] / p_star_in_body[0]]])\n",
    "\n",
    "    # Sensor model for each star\n",
    "    g = sym.simplify(p_star_in_image, full=True)\n",
    "    return g"
   ]
  },
  {
   "cell_type": "code",
   "execution_count": 9,
   "id": "d8cf6423",
   "metadata": {},
   "outputs": [
    {
     "data": {
      "text/latex": [
       "$\\displaystyle \\left[\\begin{matrix}\\frac{21 \\left(\\sin{\\left(\\delta \\right)} \\sin{\\left(\\phi \\right)} \\cos{\\left(\\theta \\right)} + \\sin{\\left(\\phi \\right)} \\sin{\\left(\\theta \\right)} \\cos{\\left(\\delta \\right)} \\cos{\\left(\\alpha - \\psi \\right)} + \\sin{\\left(\\alpha - \\psi \\right)} \\cos{\\left(\\delta \\right)} \\cos{\\left(\\phi \\right)}\\right)}{8 \\left(- \\sin{\\left(\\delta \\right)} \\sin{\\left(\\theta \\right)} + \\cos{\\left(\\delta \\right)} \\cos{\\left(\\theta \\right)} \\cos{\\left(\\alpha - \\psi \\right)}\\right)}\\\\\\frac{21 \\left(\\sin{\\left(\\delta \\right)} \\cos{\\left(\\phi \\right)} \\cos{\\left(\\theta \\right)} - \\sin{\\left(\\phi \\right)} \\sin{\\left(\\alpha - \\psi \\right)} \\cos{\\left(\\delta \\right)} + \\sin{\\left(\\theta \\right)} \\cos{\\left(\\delta \\right)} \\cos{\\left(\\phi \\right)} \\cos{\\left(\\alpha - \\psi \\right)}\\right)}{8 \\left(- \\sin{\\left(\\delta \\right)} \\sin{\\left(\\theta \\right)} + \\cos{\\left(\\delta \\right)} \\cos{\\left(\\theta \\right)} \\cos{\\left(\\alpha - \\psi \\right)}\\right)}\\end{matrix}\\right]$"
      ],
      "text/plain": [
       "Matrix([\n",
       "[21*(sin(delta)*sin(phi)*cos(theta) + sin(phi)*sin(theta)*cos(delta)*cos(alpha - psi) + sin(alpha - psi)*cos(delta)*cos(phi))/(8*(-sin(delta)*sin(theta) + cos(delta)*cos(theta)*cos(alpha - psi)))],\n",
       "[21*(sin(delta)*cos(phi)*cos(theta) - sin(phi)*sin(alpha - psi)*cos(delta) + sin(theta)*cos(delta)*cos(phi)*cos(alpha - psi))/(8*(-sin(delta)*sin(theta) + cos(delta)*cos(theta)*cos(alpha - psi)))]])"
      ]
     },
     "execution_count": 9,
     "metadata": {},
     "output_type": "execute_result"
    }
   ],
   "source": [
    "# Position of star in space frame\n",
    "p_star_in_space = sym.Matrix([[sym.cos(alpha) * sym.cos(delta)],\n",
    "                              [sym.sin(alpha) * sym.cos(delta)],\n",
    "                                [sym.sin(delta)]])\n",
    "\n",
    "    # Orientation of body frame in space frame\n",
    "R_body_in_space = Rz * Ry * Rx\n",
    "\n",
    "    # Position of star in body frame (assuming origin of body and space frames are the same)\n",
    "p_star_in_body = R_body_in_space.T * p_star_in_space\n",
    "\n",
    "    # Position of star in image frame\n",
    "p_star_in_image = (1 / sym.nsimplify(r)) * sym.Matrix([[p_star_in_body[1] / p_star_in_body[0]],\n",
    "                                                           [p_star_in_body[2] / p_star_in_body[0]]])\n",
    "\n",
    "    # Sensor model for each star\n",
    "g = sym.simplify(p_star_in_image, full=True)\n",
    "g"
   ]
  },
  {
   "cell_type": "code",
   "execution_count": 10,
   "id": "841a540a",
   "metadata": {},
   "outputs": [
    {
     "name": "stdout",
     "output_type": "stream",
     "text": [
      "[-0.1, 0.0, 0.1, 0.0, -0.1, 0.0, 0.1]\n",
      "[-0.15, -0.15, -0.15, 0.0, 0.15, 0.15, 0.15]\n"
     ]
    }
   ],
   "source": [
    "print(ra)\n",
    "print(dec)"
   ]
  },
  {
   "cell_type": "code",
   "execution_count": 11,
   "id": "a0c32f46",
   "metadata": {},
   "outputs": [],
   "source": [
    "gs = []\n",
    "for i in range(len(ra)):\n",
    "    matrix_g = g_matrix(ra[i],dec[i])\n",
    "    gs.append(matrix_g)\n",
    "g = sym.Matrix(np.array([\n",
    "    [gs[0][0]],\n",
    "    [gs[0][1]],\n",
    "    [gs[1][0]],\n",
    "    [gs[1][1]],\n",
    "    [gs[2][0]],\n",
    "    [gs[2][1]],\n",
    "    [gs[3][0]],\n",
    "    [gs[3][1]],\n",
    "    [gs[4][0]],\n",
    "    [gs[4][1]],\n",
    "    [gs[5][0]],\n",
    "    [gs[5][1]],\n",
    "    [gs[6][0]],\n",
    "    [gs[6][1]],\n",
    "]))\n",
    "    "
   ]
  },
  {
   "cell_type": "markdown",
   "id": "7ddb8280",
   "metadata": {},
   "source": [
    "The sensor model has this form for each star:\n",
    "\n",
    "$$\\zeta = g(\\psi, \\theta, \\phi, \\alpha, \\delta)$$\n",
    "\n",
    "Here is the function $g$ accounting for all the stars:"
   ]
  },
  {
   "cell_type": "code",
   "execution_count": 12,
   "id": "18328b1b",
   "metadata": {},
   "outputs": [],
   "source": [
    "from sympy.physics import mechanics\n",
    "mechanics.init_vprinting()\n",
    "symg = sym.Matrix(g)\n",
    "# print(f'{mechanics.mlatex(symg)}')"
   ]
  },
  {
   "cell_type": "markdown",
   "id": "91127e37",
   "metadata": {},
   "source": [
    "[\\begin{matrix}\\frac{- 2.07296029483037 \\sin{\\left(\\phi \\right)} \\sin{\\left(\\psi \\right)} \\sin{\\left(\\theta \\right)} + 20.6604581621089 \\sin{\\left(\\phi \\right)} \\sin{\\left(\\theta \\right)} \\cos{\\left(\\psi \\right)} - 3.13820078194558 \\sin{\\left(\\phi \\right)} \\cos{\\left(\\theta \\right)} - 20.6604581621089 \\sin{\\left(\\psi \\right)} \\cos{\\left(\\phi \\right)} - 2.07296029483037 \\cos{\\left(\\phi \\right)} \\cos{\\left(\\psi \\right)}}{- 0.789699159935378 \\sin{\\left(\\psi \\right)} \\cos{\\left(\\theta \\right)} + 1.19550505978879 \\sin{\\left(\\theta \\right)} + 7.87065072842244 \\cos{\\left(\\psi \\right)} \\cos{\\left(\\theta \\right)}}\\\\\\frac{20.6604581621089 \\sin{\\left(\\phi \\right)} \\sin{\\left(\\psi \\right)} + 2.07296029483037 \\sin{\\left(\\phi \\right)} \\cos{\\left(\\psi \\right)} - 2.07296029483037 \\sin{\\left(\\psi \\right)} \\sin{\\left(\\theta \\right)} \\cos{\\left(\\phi \\right)} + 20.6604581621089 \\sin{\\left(\\theta \\right)} \\cos{\\left(\\phi \\right)} \\cos{\\left(\\psi \\right)} - 3.13820078194558 \\cos{\\left(\\phi \\right)} \\cos{\\left(\\theta \\right)}}{- 0.789699159935378 \\sin{\\left(\\psi \\right)} \\cos{\\left(\\theta \\right)} + 1.19550505978879 \\sin{\\left(\\theta \\right)} + 7.87065072842244 \\cos{\\left(\\psi \\right)} \\cos{\\left(\\theta \\right)}}\\\\\\frac{20.7641926366569 \\sin{\\left(\\phi \\right)} \\sin{\\left(\\theta \\right)} \\cos{\\left(\\psi \\right)} - 3.13820078194558 \\sin{\\left(\\phi \\right)} \\cos{\\left(\\theta \\right)} - 20.7641926366569 \\sin{\\left(\\psi \\right)} \\cos{\\left(\\phi \\right)}}{1.19550505978879 \\sin{\\left(\\theta \\right)} + 7.91016862348834 \\cos{\\left(\\psi \\right)} \\cos{\\left(\\theta \\right)}}\\\\\\frac{20.7641926366569 \\sin{\\left(\\phi \\right)} \\sin{\\left(\\psi \\right)} + 20.7641926366569 \\sin{\\left(\\theta \\right)} \\cos{\\left(\\phi \\right)} \\cos{\\left(\\psi \\right)} - 3.13820078194558 \\cos{\\left(\\phi \\right)} \\cos{\\left(\\theta \\right)}}{1.19550505978879 \\sin{\\left(\\theta \\right)} + 7.91016862348834 \\cos{\\left(\\psi \\right)} \\cos{\\left(\\theta \\right)}}\\\\\\frac{2.07296029483037 \\sin{\\left(\\phi \\right)} \\sin{\\left(\\psi \\right)} \\sin{\\left(\\theta \\right)} + 20.6604581621089 \\sin{\\left(\\phi \\right)} \\sin{\\left(\\theta \\right)} \\cos{\\left(\\psi \\right)} - 3.13820078194558 \\sin{\\left(\\phi \\right)} \\cos{\\left(\\theta \\right)} - 20.6604581621089 \\sin{\\left(\\psi \\right)} \\cos{\\left(\\phi \\right)} + 2.07296029483037 \\cos{\\left(\\phi \\right)} \\cos{\\left(\\psi \\right)}}{0.789699159935378 \\sin{\\left(\\psi \\right)} \\cos{\\left(\\theta \\right)} + 1.19550505978879 \\sin{\\left(\\theta \\right)} + 7.87065072842244 \\cos{\\left(\\psi \\right)} \\cos{\\left(\\theta \\right)}}\\\\\\frac{20.6604581621089 \\sin{\\left(\\phi \\right)} \\sin{\\left(\\psi \\right)} - 2.07296029483037 \\sin{\\left(\\phi \\right)} \\cos{\\left(\\psi \\right)} + 2.07296029483037 \\sin{\\left(\\psi \\right)} \\sin{\\left(\\theta \\right)} \\cos{\\left(\\phi \\right)} + 20.6604581621089 \\sin{\\left(\\theta \\right)} \\cos{\\left(\\phi \\right)} \\cos{\\left(\\psi \\right)} - 3.13820078194558 \\cos{\\left(\\phi \\right)} \\cos{\\left(\\theta \\right)}}{0.789699159935378 \\sin{\\left(\\psi \\right)} \\cos{\\left(\\theta \\right)} + 1.19550505978879 \\sin{\\left(\\theta \\right)} + 7.87065072842244 \\cos{\\left(\\psi \\right)} \\cos{\\left(\\theta \\right)}}\\\\\\frac{21 \\sin{\\left(\\phi \\right)} \\tan{\\left(\\theta \\right)}}{8} - \\frac{21 \\cos{\\left(\\phi \\right)} \\tan{\\left(\\psi \\right)}}{8 \\cos{\\left(\\theta \\right)}}\\\\\\frac{21 \\sin{\\left(\\phi \\right)} \\tan{\\left(\\psi \\right)}}{8 \\cos{\\left(\\theta \\right)}} + \\frac{21 \\cos{\\left(\\phi \\right)} \\tan{\\left(\\theta \\right)}}{8}\\\\\\frac{2.07296029483037 \\sin{\\left(\\phi \\right)} \\sin{\\left(\\psi \\right)} \\sin{\\left(\\theta \\right)} - 20.6604581621089 \\sin{\\left(\\phi \\right)} \\sin{\\left(\\theta \\right)} \\cos{\\left(\\psi \\right)} - 3.13820078194558 \\sin{\\left(\\phi \\right)} \\cos{\\left(\\theta \\right)} + 20.6604581621089 \\sin{\\left(\\psi \\right)} \\cos{\\left(\\phi \\right)} + 2.07296029483037 \\cos{\\left(\\phi \\right)} \\cos{\\left(\\psi \\right)}}{0.789699159935378 \\sin{\\left(\\psi \\right)} \\cos{\\left(\\theta \\right)} + 1.19550505978879 \\sin{\\left(\\theta \\right)} - 7.87065072842244 \\cos{\\left(\\psi \\right)} \\cos{\\left(\\theta \\right)}}\\\\\\frac{- 20.6604581621089 \\sin{\\left(\\phi \\right)} \\sin{\\left(\\psi \\right)} - 2.07296029483037 \\sin{\\left(\\phi \\right)} \\cos{\\left(\\psi \\right)} + 2.07296029483037 \\sin{\\left(\\psi \\right)} \\sin{\\left(\\theta \\right)} \\cos{\\left(\\phi \\right)} - 20.6604581621089 \\sin{\\left(\\theta \\right)} \\cos{\\left(\\phi \\right)} \\cos{\\left(\\psi \\right)} - 3.13820078194558 \\cos{\\left(\\phi \\right)} \\cos{\\left(\\theta \\right)}}{0.789699159935378 \\sin{\\left(\\psi \\right)} \\cos{\\left(\\theta \\right)} + 1.19550505978879 \\sin{\\left(\\theta \\right)} - 7.87065072842244 \\cos{\\left(\\psi \\right)} \\cos{\\left(\\theta \\right)}}\\\\\\frac{- 20.7641926366569 \\sin{\\left(\\phi \\right)} \\sin{\\left(\\theta \\right)} \\cos{\\left(\\psi \\right)} - 3.13820078194558 \\sin{\\left(\\phi \\right)} \\cos{\\left(\\theta \\right)} + 20.7641926366569 \\sin{\\left(\\psi \\right)} \\cos{\\left(\\phi \\right)}}{1.19550505978879 \\sin{\\left(\\theta \\right)} - 7.91016862348834 \\cos{\\left(\\psi \\right)} \\cos{\\left(\\theta \\right)}}\\\\\\frac{20.7641926366569 \\sin{\\left(\\phi \\right)} \\sin{\\left(\\psi \\right)} + 20.7641926366569 \\sin{\\left(\\theta \\right)} \\cos{\\left(\\phi \\right)} \\cos{\\left(\\psi \\right)} + 3.13820078194558 \\cos{\\left(\\phi \\right)} \\cos{\\left(\\theta \\right)}}{- 1.19550505978879 \\sin{\\left(\\theta \\right)} + 7.91016862348834 \\cos{\\left(\\psi \\right)} \\cos{\\left(\\theta \\right)}}\\\\\\frac{2.07296029483037 \\sin{\\left(\\phi \\right)} \\sin{\\left(\\psi \\right)} \\sin{\\left(\\theta \\right)} + 20.6604581621089 \\sin{\\left(\\phi \\right)} \\sin{\\left(\\theta \\right)} \\cos{\\left(\\psi \\right)} + 3.13820078194558 \\sin{\\left(\\phi \\right)} \\cos{\\left(\\theta \\right)} - 20.6604581621089 \\sin{\\left(\\psi \\right)} \\cos{\\left(\\phi \\right)} + 2.07296029483037 \\cos{\\left(\\phi \\right)} \\cos{\\left(\\psi \\right)}}{0.789699159935378 \\sin{\\left(\\psi \\right)} \\cos{\\left(\\theta \\right)} - 1.19550505978879 \\sin{\\left(\\theta \\right)} + 7.87065072842244 \\cos{\\left(\\psi \\right)} \\cos{\\left(\\theta \\right)}}\\\\\\frac{20.6604581621089 \\sin{\\left(\\phi \\right)} \\sin{\\left(\\psi \\right)} - 2.07296029483037 \\sin{\\left(\\phi \\right)} \\cos{\\left(\\psi \\right)} + 2.07296029483037 \\sin{\\left(\\psi \\right)} \\sin{\\left(\\theta \\right)} \\cos{\\left(\\phi \\right)} + 20.6604581621089 \\sin{\\left(\\theta \\right)} \\cos{\\left(\\phi \\right)} \\cos{\\left(\\psi \\right)} + 3.13820078194558 \\cos{\\left(\\phi \\right)} \\cos{\\left(\\theta \\right)}}{0.789699159935378 \\sin{\\left(\\psi \\right)} \\cos{\\left(\\theta \\right)} - 1.19550505978879 \\sin{\\left(\\theta \\right)} + 7.87065072842244 \\cos{\\left(\\psi \\right)} \\cos{\\left(\\theta \\right)}}\\end{matrix}]"
   ]
  },
  {
   "cell_type": "code",
   "execution_count": 13,
   "id": "f8502a5e",
   "metadata": {},
   "outputs": [
    {
     "data": {
      "text/latex": [
       "$\\displaystyle \\left[\\begin{matrix}\\frac{- 2.07296029483037 \\sin{\\left(\\phi \\right)} \\sin{\\left(\\psi \\right)} \\sin{\\left(\\theta \\right)} + 20.6604581621089 \\sin{\\left(\\phi \\right)} \\sin{\\left(\\theta \\right)} \\cos{\\left(\\psi \\right)} - 3.13820078194558 \\sin{\\left(\\phi \\right)} \\cos{\\left(\\theta \\right)} - 20.6604581621089 \\sin{\\left(\\psi \\right)} \\cos{\\left(\\phi \\right)} - 2.07296029483037 \\cos{\\left(\\phi \\right)} \\cos{\\left(\\psi \\right)}}{- 0.789699159935378 \\sin{\\left(\\psi \\right)} \\cos{\\left(\\theta \\right)} + 1.19550505978879 \\sin{\\left(\\theta \\right)} + 7.87065072842244 \\cos{\\left(\\psi \\right)} \\cos{\\left(\\theta \\right)}}\\\\\\frac{20.6604581621089 \\sin{\\left(\\phi \\right)} \\sin{\\left(\\psi \\right)} + 2.07296029483037 \\sin{\\left(\\phi \\right)} \\cos{\\left(\\psi \\right)} - 2.07296029483037 \\sin{\\left(\\psi \\right)} \\sin{\\left(\\theta \\right)} \\cos{\\left(\\phi \\right)} + 20.6604581621089 \\sin{\\left(\\theta \\right)} \\cos{\\left(\\phi \\right)} \\cos{\\left(\\psi \\right)} - 3.13820078194558 \\cos{\\left(\\phi \\right)} \\cos{\\left(\\theta \\right)}}{- 0.789699159935378 \\sin{\\left(\\psi \\right)} \\cos{\\left(\\theta \\right)} + 1.19550505978879 \\sin{\\left(\\theta \\right)} + 7.87065072842244 \\cos{\\left(\\psi \\right)} \\cos{\\left(\\theta \\right)}}\\\\\\frac{20.7641926366569 \\sin{\\left(\\phi \\right)} \\sin{\\left(\\theta \\right)} \\cos{\\left(\\psi \\right)} - 3.13820078194558 \\sin{\\left(\\phi \\right)} \\cos{\\left(\\theta \\right)} - 20.7641926366569 \\sin{\\left(\\psi \\right)} \\cos{\\left(\\phi \\right)}}{1.19550505978879 \\sin{\\left(\\theta \\right)} + 7.91016862348834 \\cos{\\left(\\psi \\right)} \\cos{\\left(\\theta \\right)}}\\\\\\frac{20.7641926366569 \\sin{\\left(\\phi \\right)} \\sin{\\left(\\psi \\right)} + 20.7641926366569 \\sin{\\left(\\theta \\right)} \\cos{\\left(\\phi \\right)} \\cos{\\left(\\psi \\right)} - 3.13820078194558 \\cos{\\left(\\phi \\right)} \\cos{\\left(\\theta \\right)}}{1.19550505978879 \\sin{\\left(\\theta \\right)} + 7.91016862348834 \\cos{\\left(\\psi \\right)} \\cos{\\left(\\theta \\right)}}\\\\\\frac{2.07296029483037 \\sin{\\left(\\phi \\right)} \\sin{\\left(\\psi \\right)} \\sin{\\left(\\theta \\right)} + 20.6604581621089 \\sin{\\left(\\phi \\right)} \\sin{\\left(\\theta \\right)} \\cos{\\left(\\psi \\right)} - 3.13820078194558 \\sin{\\left(\\phi \\right)} \\cos{\\left(\\theta \\right)} - 20.6604581621089 \\sin{\\left(\\psi \\right)} \\cos{\\left(\\phi \\right)} + 2.07296029483037 \\cos{\\left(\\phi \\right)} \\cos{\\left(\\psi \\right)}}{0.789699159935378 \\sin{\\left(\\psi \\right)} \\cos{\\left(\\theta \\right)} + 1.19550505978879 \\sin{\\left(\\theta \\right)} + 7.87065072842244 \\cos{\\left(\\psi \\right)} \\cos{\\left(\\theta \\right)}}\\\\\\frac{20.6604581621089 \\sin{\\left(\\phi \\right)} \\sin{\\left(\\psi \\right)} - 2.07296029483037 \\sin{\\left(\\phi \\right)} \\cos{\\left(\\psi \\right)} + 2.07296029483037 \\sin{\\left(\\psi \\right)} \\sin{\\left(\\theta \\right)} \\cos{\\left(\\phi \\right)} + 20.6604581621089 \\sin{\\left(\\theta \\right)} \\cos{\\left(\\phi \\right)} \\cos{\\left(\\psi \\right)} - 3.13820078194558 \\cos{\\left(\\phi \\right)} \\cos{\\left(\\theta \\right)}}{0.789699159935378 \\sin{\\left(\\psi \\right)} \\cos{\\left(\\theta \\right)} + 1.19550505978879 \\sin{\\left(\\theta \\right)} + 7.87065072842244 \\cos{\\left(\\psi \\right)} \\cos{\\left(\\theta \\right)}}\\\\\\frac{21 \\sin{\\left(\\phi \\right)} \\tan{\\left(\\theta \\right)}}{8} - \\frac{21 \\cos{\\left(\\phi \\right)} \\tan{\\left(\\psi \\right)}}{8 \\cos{\\left(\\theta \\right)}}\\\\\\frac{21 \\sin{\\left(\\phi \\right)} \\tan{\\left(\\psi \\right)}}{8 \\cos{\\left(\\theta \\right)}} + \\frac{21 \\cos{\\left(\\phi \\right)} \\tan{\\left(\\theta \\right)}}{8}\\\\\\frac{2.07296029483037 \\sin{\\left(\\phi \\right)} \\sin{\\left(\\psi \\right)} \\sin{\\left(\\theta \\right)} - 20.6604581621089 \\sin{\\left(\\phi \\right)} \\sin{\\left(\\theta \\right)} \\cos{\\left(\\psi \\right)} - 3.13820078194558 \\sin{\\left(\\phi \\right)} \\cos{\\left(\\theta \\right)} + 20.6604581621089 \\sin{\\left(\\psi \\right)} \\cos{\\left(\\phi \\right)} + 2.07296029483037 \\cos{\\left(\\phi \\right)} \\cos{\\left(\\psi \\right)}}{0.789699159935378 \\sin{\\left(\\psi \\right)} \\cos{\\left(\\theta \\right)} + 1.19550505978879 \\sin{\\left(\\theta \\right)} - 7.87065072842244 \\cos{\\left(\\psi \\right)} \\cos{\\left(\\theta \\right)}}\\\\\\frac{- 20.6604581621089 \\sin{\\left(\\phi \\right)} \\sin{\\left(\\psi \\right)} - 2.07296029483037 \\sin{\\left(\\phi \\right)} \\cos{\\left(\\psi \\right)} + 2.07296029483037 \\sin{\\left(\\psi \\right)} \\sin{\\left(\\theta \\right)} \\cos{\\left(\\phi \\right)} - 20.6604581621089 \\sin{\\left(\\theta \\right)} \\cos{\\left(\\phi \\right)} \\cos{\\left(\\psi \\right)} - 3.13820078194558 \\cos{\\left(\\phi \\right)} \\cos{\\left(\\theta \\right)}}{0.789699159935378 \\sin{\\left(\\psi \\right)} \\cos{\\left(\\theta \\right)} + 1.19550505978879 \\sin{\\left(\\theta \\right)} - 7.87065072842244 \\cos{\\left(\\psi \\right)} \\cos{\\left(\\theta \\right)}}\\\\\\frac{- 20.7641926366569 \\sin{\\left(\\phi \\right)} \\sin{\\left(\\theta \\right)} \\cos{\\left(\\psi \\right)} - 3.13820078194558 \\sin{\\left(\\phi \\right)} \\cos{\\left(\\theta \\right)} + 20.7641926366569 \\sin{\\left(\\psi \\right)} \\cos{\\left(\\phi \\right)}}{1.19550505978879 \\sin{\\left(\\theta \\right)} - 7.91016862348834 \\cos{\\left(\\psi \\right)} \\cos{\\left(\\theta \\right)}}\\\\\\frac{20.7641926366569 \\sin{\\left(\\phi \\right)} \\sin{\\left(\\psi \\right)} + 20.7641926366569 \\sin{\\left(\\theta \\right)} \\cos{\\left(\\phi \\right)} \\cos{\\left(\\psi \\right)} + 3.13820078194558 \\cos{\\left(\\phi \\right)} \\cos{\\left(\\theta \\right)}}{- 1.19550505978879 \\sin{\\left(\\theta \\right)} + 7.91016862348834 \\cos{\\left(\\psi \\right)} \\cos{\\left(\\theta \\right)}}\\\\\\frac{2.07296029483037 \\sin{\\left(\\phi \\right)} \\sin{\\left(\\psi \\right)} \\sin{\\left(\\theta \\right)} + 20.6604581621089 \\sin{\\left(\\phi \\right)} \\sin{\\left(\\theta \\right)} \\cos{\\left(\\psi \\right)} + 3.13820078194558 \\sin{\\left(\\phi \\right)} \\cos{\\left(\\theta \\right)} - 20.6604581621089 \\sin{\\left(\\psi \\right)} \\cos{\\left(\\phi \\right)} + 2.07296029483037 \\cos{\\left(\\phi \\right)} \\cos{\\left(\\psi \\right)}}{0.789699159935378 \\sin{\\left(\\psi \\right)} \\cos{\\left(\\theta \\right)} - 1.19550505978879 \\sin{\\left(\\theta \\right)} + 7.87065072842244 \\cos{\\left(\\psi \\right)} \\cos{\\left(\\theta \\right)}}\\\\\\frac{20.6604581621089 \\sin{\\left(\\phi \\right)} \\sin{\\left(\\psi \\right)} - 2.07296029483037 \\sin{\\left(\\phi \\right)} \\cos{\\left(\\psi \\right)} + 2.07296029483037 \\sin{\\left(\\psi \\right)} \\sin{\\left(\\theta \\right)} \\cos{\\left(\\phi \\right)} + 20.6604581621089 \\sin{\\left(\\theta \\right)} \\cos{\\left(\\phi \\right)} \\cos{\\left(\\psi \\right)} + 3.13820078194558 \\cos{\\left(\\phi \\right)} \\cos{\\left(\\theta \\right)}}{0.789699159935378 \\sin{\\left(\\psi \\right)} \\cos{\\left(\\theta \\right)} - 1.19550505978879 \\sin{\\left(\\theta \\right)} + 7.87065072842244 \\cos{\\left(\\psi \\right)} \\cos{\\left(\\theta \\right)}}\\end{matrix}\\right]$"
      ],
      "text/plain": [
       "⎡-2.07296029483037⋅sin(φ)⋅sin(ψ)⋅sin(θ) + 20.6604581621089⋅sin(φ)⋅sin(θ)⋅cos(ψ\n",
       "⎢─────────────────────────────────────────────────────────────────────────────\n",
       "⎢                                           -0.789699159935378⋅sin(ψ)⋅cos(θ) +\n",
       "⎢                                                                             \n",
       "⎢20.6604581621089⋅sin(φ)⋅sin(ψ) + 2.07296029483037⋅sin(φ)⋅cos(ψ) - 2.072960294\n",
       "⎢─────────────────────────────────────────────────────────────────────────────\n",
       "⎢                                          -0.789699159935378⋅sin(ψ)⋅cos(θ) + \n",
       "⎢                                                                             \n",
       "⎢                                     20.7641926366569⋅sin(φ)⋅sin(θ)⋅cos(ψ) - \n",
       "⎢                                     ────────────────────────────────────────\n",
       "⎢                                                             1.19550505978879\n",
       "⎢                                                                             \n",
       "⎢                                     20.7641926366569⋅sin(φ)⋅sin(ψ) + 20.7641\n",
       "⎢                                     ────────────────────────────────────────\n",
       "⎢                                                             1.19550505978879\n",
       "⎢                                                                             \n",
       "⎢2.07296029483037⋅sin(φ)⋅sin(ψ)⋅sin(θ) + 20.6604581621089⋅sin(φ)⋅sin(θ)⋅cos(ψ)\n",
       "⎢─────────────────────────────────────────────────────────────────────────────\n",
       "⎢                                           0.789699159935378⋅sin(ψ)⋅cos(θ) + \n",
       "⎢                                                                             \n",
       "⎢20.6604581621089⋅sin(φ)⋅sin(ψ) - 2.07296029483037⋅sin(φ)⋅cos(ψ) + 2.072960294\n",
       "⎢─────────────────────────────────────────────────────────────────────────────\n",
       "⎢                                           0.789699159935378⋅sin(ψ)⋅cos(θ) + \n",
       "⎢                                                                             \n",
       "⎢                                                                       21⋅sin\n",
       "⎢                                                                       ──────\n",
       "⎢                                                                             \n",
       "⎢                                                                             \n",
       "⎢                                                                       21⋅sin\n",
       "⎢                                                                       ──────\n",
       "⎢                                                                           8⋅\n",
       "⎢                                                                             \n",
       "⎢2.07296029483037⋅sin(φ)⋅sin(ψ)⋅sin(θ) - 20.6604581621089⋅sin(φ)⋅sin(θ)⋅cos(ψ)\n",
       "⎢─────────────────────────────────────────────────────────────────────────────\n",
       "⎢                                           0.789699159935378⋅sin(ψ)⋅cos(θ) + \n",
       "⎢                                                                             \n",
       "⎢-20.6604581621089⋅sin(φ)⋅sin(ψ) - 2.07296029483037⋅sin(φ)⋅cos(ψ) + 2.07296029\n",
       "⎢─────────────────────────────────────────────────────────────────────────────\n",
       "⎢                                            0.789699159935378⋅sin(ψ)⋅cos(θ) +\n",
       "⎢                                                                             \n",
       "⎢                                    -20.7641926366569⋅sin(φ)⋅sin(θ)⋅cos(ψ) - \n",
       "⎢                                    ─────────────────────────────────────────\n",
       "⎢                                                            1.19550505978879⋅\n",
       "⎢                                                                             \n",
       "⎢                                     20.7641926366569⋅sin(φ)⋅sin(ψ) + 20.7641\n",
       "⎢                                     ────────────────────────────────────────\n",
       "⎢                                                            -1.19550505978879\n",
       "⎢                                                                             \n",
       "⎢2.07296029483037⋅sin(φ)⋅sin(ψ)⋅sin(θ) + 20.6604581621089⋅sin(φ)⋅sin(θ)⋅cos(ψ)\n",
       "⎢─────────────────────────────────────────────────────────────────────────────\n",
       "⎢                                           0.789699159935378⋅sin(ψ)⋅cos(θ) - \n",
       "⎢                                                                             \n",
       "⎢20.6604581621089⋅sin(φ)⋅sin(ψ) - 2.07296029483037⋅sin(φ)⋅cos(ψ) + 2.072960294\n",
       "⎢─────────────────────────────────────────────────────────────────────────────\n",
       "⎣                                           0.789699159935378⋅sin(ψ)⋅cos(θ) - \n",
       "\n",
       ") - 3.13820078194558⋅sin(φ)⋅cos(θ) - 20.6604581621089⋅sin(ψ)⋅cos(φ) - 2.072960\n",
       "──────────────────────────────────────────────────────────────────────────────\n",
       " 1.19550505978879⋅sin(θ) + 7.87065072842244⋅cos(ψ)⋅cos(θ)                     \n",
       "                                                                              \n",
       "83037⋅sin(ψ)⋅sin(θ)⋅cos(φ) + 20.6604581621089⋅sin(θ)⋅cos(φ)⋅cos(ψ) - 3.1382007\n",
       "──────────────────────────────────────────────────────────────────────────────\n",
       "1.19550505978879⋅sin(θ) + 7.87065072842244⋅cos(ψ)⋅cos(θ)                      \n",
       "                                                                              \n",
       "3.13820078194558⋅sin(φ)⋅cos(θ) - 20.7641926366569⋅sin(ψ)⋅cos(φ)               \n",
       "───────────────────────────────────────────────────────────────               \n",
       "⋅sin(θ) + 7.91016862348834⋅cos(ψ)⋅cos(θ)                                      \n",
       "                                                                              \n",
       "926366569⋅sin(θ)⋅cos(φ)⋅cos(ψ) - 3.13820078194558⋅cos(φ)⋅cos(θ)               \n",
       "───────────────────────────────────────────────────────────────               \n",
       "⋅sin(θ) + 7.91016862348834⋅cos(ψ)⋅cos(θ)                                      \n",
       "                                                                              \n",
       " - 3.13820078194558⋅sin(φ)⋅cos(θ) - 20.6604581621089⋅sin(ψ)⋅cos(φ) + 2.0729602\n",
       "──────────────────────────────────────────────────────────────────────────────\n",
       "1.19550505978879⋅sin(θ) + 7.87065072842244⋅cos(ψ)⋅cos(θ)                      \n",
       "                                                                              \n",
       "83037⋅sin(ψ)⋅sin(θ)⋅cos(φ) + 20.6604581621089⋅sin(θ)⋅cos(φ)⋅cos(ψ) - 3.1382007\n",
       "──────────────────────────────────────────────────────────────────────────────\n",
       "1.19550505978879⋅sin(θ) + 7.87065072842244⋅cos(ψ)⋅cos(θ)                      \n",
       "                                                                              \n",
       "(φ)⋅tan(θ)   21⋅cos(φ)⋅tan(ψ)                                                 \n",
       "────────── - ────────────────                                                 \n",
       " 8               8⋅cos(θ)                                                     \n",
       "                                                                              \n",
       "(φ)⋅tan(ψ)   21⋅cos(φ)⋅tan(θ)                                                 \n",
       "────────── + ────────────────                                                 \n",
       "cos(θ)              8                                                         \n",
       "                                                                              \n",
       " - 3.13820078194558⋅sin(φ)⋅cos(θ) + 20.6604581621089⋅sin(ψ)⋅cos(φ) + 2.0729602\n",
       "──────────────────────────────────────────────────────────────────────────────\n",
       "1.19550505978879⋅sin(θ) - 7.87065072842244⋅cos(ψ)⋅cos(θ)                      \n",
       "                                                                              \n",
       "483037⋅sin(ψ)⋅sin(θ)⋅cos(φ) - 20.6604581621089⋅sin(θ)⋅cos(φ)⋅cos(ψ) - 3.138200\n",
       "──────────────────────────────────────────────────────────────────────────────\n",
       " 1.19550505978879⋅sin(θ) - 7.87065072842244⋅cos(ψ)⋅cos(θ)                     \n",
       "                                                                              \n",
       "3.13820078194558⋅sin(φ)⋅cos(θ) + 20.7641926366569⋅sin(ψ)⋅cos(φ)               \n",
       "───────────────────────────────────────────────────────────────               \n",
       "sin(θ) - 7.91016862348834⋅cos(ψ)⋅cos(θ)                                       \n",
       "                                                                              \n",
       "926366569⋅sin(θ)⋅cos(φ)⋅cos(ψ) + 3.13820078194558⋅cos(φ)⋅cos(θ)               \n",
       "───────────────────────────────────────────────────────────────               \n",
       "⋅sin(θ) + 7.91016862348834⋅cos(ψ)⋅cos(θ)                                      \n",
       "                                                                              \n",
       " + 3.13820078194558⋅sin(φ)⋅cos(θ) - 20.6604581621089⋅sin(ψ)⋅cos(φ) + 2.0729602\n",
       "──────────────────────────────────────────────────────────────────────────────\n",
       "1.19550505978879⋅sin(θ) + 7.87065072842244⋅cos(ψ)⋅cos(θ)                      \n",
       "                                                                              \n",
       "83037⋅sin(ψ)⋅sin(θ)⋅cos(φ) + 20.6604581621089⋅sin(θ)⋅cos(φ)⋅cos(ψ) + 3.1382007\n",
       "──────────────────────────────────────────────────────────────────────────────\n",
       "1.19550505978879⋅sin(θ) + 7.87065072842244⋅cos(ψ)⋅cos(θ)                      \n",
       "\n",
       "29483037⋅cos(φ)⋅cos(ψ)⎤\n",
       "──────────────────────⎥\n",
       "                      ⎥\n",
       "                      ⎥\n",
       "8194558⋅cos(φ)⋅cos(θ) ⎥\n",
       "───────────────────── ⎥\n",
       "                      ⎥\n",
       "                      ⎥\n",
       "                      ⎥\n",
       "                      ⎥\n",
       "                      ⎥\n",
       "                      ⎥\n",
       "                      ⎥\n",
       "                      ⎥\n",
       "                      ⎥\n",
       "                      ⎥\n",
       "9483037⋅cos(φ)⋅cos(ψ) ⎥\n",
       "───────────────────── ⎥\n",
       "                      ⎥\n",
       "                      ⎥\n",
       "8194558⋅cos(φ)⋅cos(θ) ⎥\n",
       "───────────────────── ⎥\n",
       "                      ⎥\n",
       "                      ⎥\n",
       "                      ⎥\n",
       "                      ⎥\n",
       "                      ⎥\n",
       "                      ⎥\n",
       "                      ⎥\n",
       "                      ⎥\n",
       "                      ⎥\n",
       "                      ⎥\n",
       "9483037⋅cos(φ)⋅cos(ψ) ⎥\n",
       "───────────────────── ⎥\n",
       "                      ⎥\n",
       "                      ⎥\n",
       "78194558⋅cos(φ)⋅cos(θ)⎥\n",
       "──────────────────────⎥\n",
       "                      ⎥\n",
       "                      ⎥\n",
       "                      ⎥\n",
       "                      ⎥\n",
       "                      ⎥\n",
       "                      ⎥\n",
       "                      ⎥\n",
       "                      ⎥\n",
       "                      ⎥\n",
       "                      ⎥\n",
       "9483037⋅cos(φ)⋅cos(ψ) ⎥\n",
       "───────────────────── ⎥\n",
       "                      ⎥\n",
       "                      ⎥\n",
       "8194558⋅cos(φ)⋅cos(θ) ⎥\n",
       "───────────────────── ⎥\n",
       "                      ⎦"
      ]
     },
     "execution_count": 13,
     "metadata": {},
     "output_type": "execute_result"
    }
   ],
   "source": [
    "g"
   ]
  },
  {
   "cell_type": "markdown",
   "id": "86c7e459",
   "metadata": {},
   "source": [
    "## Define Equilibrium:"
   ]
  },
  {
   "cell_type": "code",
   "execution_count": 14,
   "id": "2e2614ec",
   "metadata": {},
   "outputs": [
    {
     "name": "stdout",
     "output_type": "stream",
     "text": [
      "f_num = [[ 0.]\n",
      " [ 0.]\n",
      " [ 0.]\n",
      " [ 0.]\n",
      " [ 0.]\n",
      " [-0.]]\n",
      "g_num = [[-0.26337851]\n",
      " [-0.3987219 ]\n",
      " [ 0.        ]\n",
      " [-0.39672995]\n",
      " [ 0.26337851]\n",
      " [-0.3987219 ]\n",
      " [ 0.        ]\n",
      " [ 0.        ]\n",
      " [-0.26337851]\n",
      " [ 0.3987219 ]\n",
      " [-0.        ]\n",
      " [ 0.39672995]\n",
      " [ 0.26337851]\n",
      " [ 0.3987219 ]]\n"
     ]
    }
   ],
   "source": [
    "# define equilibrium\n",
    "psi_e = 0\n",
    "theta_e = 0\n",
    "phi_e = 0\n",
    "\n",
    "w_x_e = 0\n",
    "w_y_e = 0\n",
    "w_z_e = 0\n",
    "\n",
    "tau_1_e = 0\n",
    "tau_2_e = 0\n",
    "tau_3_e = 0\n",
    "tau_4_e = 0\n",
    "\n",
    "\n",
    "\n",
    "\n",
    "\n",
    "x_eq = np.array([\n",
    "    psi_e,\n",
    "    theta_e,\n",
    "    phi_e,\n",
    "    w_x_e,\n",
    "    w_y_e,\n",
    "    w_z_e     \n",
    "        ])\n",
    "u_eq = np.array([\n",
    "    tau_1_e,\n",
    "    tau_2_e,\n",
    "    tau_3_e,\n",
    "    tau_4_e\n",
    "])\n",
    "\n",
    "# check equilibrium\n",
    "f_num = sym.lambdify([psi,theta,phi,w_x,w_y,w_z,tau_1,tau_2,tau_3,tau_4],f)\n",
    "print('f_num =',f_num(psi_e,theta_e,phi_e,w_x_e,w_y_e,w_z_e,tau_1_e,tau_2_e,tau_3_e,tau_4_e)) # output should be zero\n",
    "\n",
    "g_num = sym.lambdify([psi,theta,phi,w_x,w_y,w_z,tau_1,tau_2,tau_3,tau_4],g)\n",
    "print('g_num =',g_num(psi_e,theta_e,phi_e,w_x_e,w_y_e,w_z_e,tau_1_e,tau_2_e,tau_3_e,tau_4_e)) # output shouldnt be zero "
   ]
  },
  {
   "cell_type": "markdown",
   "id": "40a77b38",
   "metadata": {},
   "source": [
    "Find A and B an C Matrices"
   ]
  },
  {
   "cell_type": "code",
   "execution_count": 15,
   "id": "745d78f4",
   "metadata": {},
   "outputs": [
    {
     "name": "stdout",
     "output_type": "stream",
     "text": [
      "A =  [[ 0.  0.  0.  0.  0.  1.]\n",
      " [ 0.  0.  0.  0.  1. -0.]\n",
      " [ 0.  0.  0.  1.  0.  0.]\n",
      " [ 0.  0.  0.  0. -0. -0.]\n",
      " [ 0.  0.  0.  0.  0.  0.]\n",
      " [ 0.  0.  0.  0.  0.  0.]]\n",
      "B =  [[ 0.          0.          0.          0.        ]\n",
      " [ 0.          0.          0.          0.        ]\n",
      " [ 0.          0.          0.          0.        ]\n",
      " [-0.05241358  0.05241358  0.          0.        ]\n",
      " [ 0.          0.         -0.05241358  0.05241358]\n",
      " [-0.03732329 -0.03732329 -0.03732329 -0.03732329]]\n",
      "C =  [[-2.651426    0.04000563 -0.3987219   0.          0.          0.        ]\n",
      " [-0.04000563  2.68556349  0.26337851  0.          0.          0.        ]\n",
      " [-2.625       0.         -0.39672995  0.          0.          0.        ]\n",
      " [ 0.          2.68495987  0.          0.          0.          0.        ]\n",
      " [-2.651426   -0.04000563 -0.3987219   0.          0.          0.        ]\n",
      " [ 0.04000563  2.68556349 -0.26337851  0.          0.          0.        ]\n",
      " [-2.625       0.          0.          0.          0.          0.        ]\n",
      " [ 0.          2.625       0.          0.          0.          0.        ]\n",
      " [-2.651426   -0.04000563  0.3987219   0.          0.          0.        ]\n",
      " [ 0.04000563  2.68556349  0.26337851  0.          0.          0.        ]\n",
      " [-2.625      -0.          0.39672995  0.          0.          0.        ]\n",
      " [ 0.          2.68495987  0.          0.          0.          0.        ]\n",
      " [-2.651426    0.04000563  0.3987219   0.          0.          0.        ]\n",
      " [-0.04000563  2.68556349 -0.26337851  0.          0.          0.        ]]\n"
     ]
    }
   ],
   "source": [
    "# Assemble state and input matrices\n",
    "A_num = sym.lambdify((psi,theta,phi,w_x,w_y,w_z,tau_1,tau_2,tau_3,tau_4), f.jacobian([psi,theta,phi,w_x,w_y,w_z]))\n",
    "B_num = sym.lambdify((psi,theta,phi,w_x,w_y,w_z,tau_1,tau_2,tau_3,tau_4), f.jacobian([tau_1,tau_2,tau_3,tau_4]))\n",
    "C_num = sym.lambdify((psi,theta,phi,w_x,w_y,w_z,tau_1,tau_2,tau_3,tau_4), g.jacobian([psi,theta,phi,w_x,w_y,w_z])) \n",
    "\n",
    "A = A_num(psi_e,theta_e,phi_e,w_x_e,w_y_e,w_z_e,tau_1_e,tau_2_e,tau_3_e,tau_4_e)\n",
    "B = B_num(psi_e,theta_e,phi_e,w_x_e,w_y_e,w_z_e,tau_1_e,tau_2_e,tau_3_e,tau_4_e)\n",
    "C = C_num(psi_e,theta_e,phi_e,w_x_e,w_y_e,w_z_e,tau_1_e,tau_2_e,tau_3_e,tau_4_e)\n",
    "\n",
    "print('A = ',A)\n",
    "print('B = ',B)\n",
    "print('C = ',C)"
   ]
  },
  {
   "cell_type": "markdown",
   "id": "7acbc38d",
   "metadata": {},
   "source": [
    "## Controllability"
   ]
  },
  {
   "cell_type": "code",
   "execution_count": 16,
   "id": "67adc80c",
   "metadata": {},
   "outputs": [
    {
     "name": "stdout",
     "output_type": "stream",
     "text": [
      "Controllable!\n"
     ]
    }
   ],
   "source": [
    "# Construct Controllability Matrix W\n",
    "W = B\n",
    "n = A.shape[0]\n",
    "\n",
    "# Create W one column at a time by iterating over i from 1 to n-1\n",
    "for i in range(1, n):\n",
    "    col = np.linalg.matrix_power(A, i) @ B\n",
    "    W = np.block([W, col])\n",
    "W\n",
    "\n",
    "# determines if a system is controllable or not    \n",
    "def is_controllable(A,B):\n",
    "    W = B\n",
    "    n = A.shape[0]\n",
    "\n",
    "    for i in range(1, n):\n",
    "        col = np.linalg.matrix_power(A, i) @ B\n",
    "        W = np.block([W, col])\n",
    "    r = np.linalg.matrix_rank(W)\n",
    "    if r==W.shape[0]:\n",
    "        return print('Controllable!')\n",
    "    else:\n",
    "        return print('Not Controllable!')\n",
    "is_controllable(A,B)"
   ]
  },
  {
   "cell_type": "markdown",
   "id": "93a9e32a",
   "metadata": {},
   "source": [
    "## Observability"
   ]
  },
  {
   "cell_type": "code",
   "execution_count": 17,
   "id": "bec39b9f",
   "metadata": {},
   "outputs": [
    {
     "name": "stdout",
     "output_type": "stream",
     "text": [
      "Observable!\n"
     ]
    }
   ],
   "source": [
    "def is_observable(A,C):\n",
    "    A = A.T\n",
    "    C = C.T\n",
    "    O = C\n",
    "    n = A.shape[0]\n",
    "\n",
    "    for i in range(1, n):\n",
    "        col = np.linalg.matrix_power(A, i) @ C\n",
    "        O = np.block([O, col])\n",
    "    r = np.linalg.matrix_rank(O)\n",
    "    if r==O.shape[0]:\n",
    "        return print('Observable!')\n",
    "    else:\n",
    "        return print('Not Observable!')\n",
    "is_observable(A,C)"
   ]
  },
  {
   "cell_type": "markdown",
   "id": "ddc4d5d3",
   "metadata": {},
   "source": [
    "# LQR"
   ]
  },
  {
   "cell_type": "code",
   "execution_count": 71,
   "id": "cd464d9e",
   "metadata": {},
   "outputs": [
    {
     "name": "stdout",
     "output_type": "stream",
     "text": [
      "Asymptotically Stable\n"
     ]
    }
   ],
   "source": [
    "# Construct K\n",
    "from sympy.physics import mechanics\n",
    "mechanics.init_vprinting()\n",
    "symg = sym.Matrix(g)\n",
    "#print(f'{mechanics.mlatex(symg)}')\n",
    "\n",
    "# Define the weights\n",
    "QK = np.eye(len(A[0]))\n",
    "QK[0,0] = 2000     # psi weight\n",
    "QK[1,1] = 7000     # theta weight\n",
    "QK[2,2] = 1000     # phi weight\n",
    "QK[3,3] = 1000    # w_x weight\n",
    "QK[4,4] = 7000    # w_y weight\n",
    "QK[5,5] = 2000    # w_z weight\n",
    "# symQK = sym.Matrix(QK)\n",
    "# print(f'Q_K = {mechanics.mlatex(symQK)}')\n",
    "\n",
    "\n",
    "RK = np.eye(4)*.0025\n",
    "# symRK = sym.Matrix(RK)\n",
    "# print(f'R_K = {mechanics.mlatex(symRK)}')\n",
    "\n",
    "\n",
    "# Find the optimal cost matrix and gain matrix (both should be 2D NumPy arrays)\n",
    "PK = linalg.solve_continuous_are(A, B, QK, RK)\n",
    "# symPK = sym.Matrix(PK)\n",
    "# print(f'P_K = {mechanics.mlatex(symPK)}')\n",
    "\n",
    "K = linalg.inv(RK) @  B.T @ PK\n",
    "# symK = sym.Matrix(K)\n",
    "# print(f'K = {mechanics.mlatex(symK)}')\n",
    "\n",
    "F = A-B@K\n",
    "s = linalg.eigvals(F)\n",
    "if (s.real < 0).all():\n",
    "    print(\"Asymptotically Stable\")"
   ]
  },
  {
   "cell_type": "code",
   "execution_count": 72,
   "id": "886766b1",
   "metadata": {},
   "outputs": [
    {
     "name": "stdout",
     "output_type": "stream",
     "text": [
      "Asymptotically Stable\n"
     ]
    }
   ],
   "source": [
    "# Construct L\n",
    "\n",
    "# Define the weights\n",
    "Q_obs = np.eye(14)\n",
    "# symQL = sym.Matrix(QL)\n",
    "# print(f'Q_L = {mechanics.mlatex(symQL)}')\n",
    "Q_obs[0][0] = 1\n",
    "Q_obs[2][2] = 1\n",
    "Q_obs[4][4] = 1\n",
    "Q_obs[6][6] = 1\n",
    "\n",
    "\n",
    "R_obs = np.eye(6)*1\n",
    "# symRL = sym.Matrix(RL)\n",
    "# print(f'R_L = {mechanics.mlatex(symRL)}')\n",
    "\n",
    "# Find the optimal cost matrix and gain matrix (both should be 2D NumPy arrays)\n",
    "P_obs = linalg.solve_continuous_are(A.T, C.T, linalg.inv(R_obs), linalg.inv(Q_obs))\n",
    "\n",
    "\n",
    "# symPL = sym.Matrix(PK)\n",
    "# print(f'P_K = {mechanics.mlatex(symPL)}')\n",
    "\n",
    "L = P_obs@C.T@Q_obs\n",
    "# symL = sym.Matrix(L)\n",
    "# print(f'L = {mechanics.mlatex(symL)}')\n",
    "\n",
    "F = A.T-C.T@L.T\n",
    "s = linalg.eigvals(F)\n",
    "if (s.real < 0).all():\n",
    "    print(\"Asymptotically Stable\")"
   ]
  },
  {
   "cell_type": "markdown",
   "id": "236df94d",
   "metadata": {},
   "source": [
    "Define a controller that maps sensor measurements to actuator commands. By default, it applies zero torque to each reaction wheel. Modify the `run` function to make the controller behave differently."
   ]
  },
  {
   "cell_type": "code",
   "execution_count": 73,
   "id": "14b2c515",
   "metadata": {},
   "outputs": [],
   "source": [
    "class Controller:\n",
    "    def __init__(self):\n",
    "        # Choose time step\n",
    "        self.dt = .01 # <--- (1) should be a floating-point number\n",
    "        \n",
    "        # Define equilibrium point\n",
    "\n",
    "        self.psi_e = 0.\n",
    "        self.theta_e = 0.\n",
    "        self.phi_e = 0.\n",
    "\n",
    "        self.w_x_e = 0.\n",
    "        self.w_y_e = 0.\n",
    "        self.w_z_e = 0.\n",
    "\n",
    "        self.tau_1_e = 0.\n",
    "        self.tau_2_e = 0.\n",
    "        self.tau_3_e = 0.\n",
    "        self.tau_4_e = 0.\n",
    "        self.tau_e = np.array([[self.tau_1_e],[self.tau_2_e],[self.tau_3_e],[self.tau_4_e]])\n",
    "        \n",
    "        self.g_e = g_num(self.psi_e,self.theta_e,self.phi_e,self.w_x_e,self.w_y_e,self.w_z_e,self.tau_1_e,self.tau_2_e,self.tau_3_e,self.tau_4_e)\n",
    "        \n",
    "        # make g a lambdify function g_num\n",
    "        # substitute the equilibrium values into the lambdify function\n",
    "        # use this g_e in creating your y\n",
    "    \n",
    "#         self.g_e = g.subs([(psi,0.),(theta,0.),(phi,0.)])\n",
    "#         for i in range(len(self.g_e)):\n",
    "#             self.g_e[i] = sym.Float(self.g_e[i])\n",
    "#         self.g_e = (self.g_e).T\n",
    "\n",
    "\n",
    "\n",
    "\n",
    "\n",
    "        # Define state-space model\n",
    "        self.A = A.astype('float') # <--- (5) should be a 2d numpy array\n",
    "        self.B = B.astype('float') # <--- (6) should be a 2d numpy array\n",
    "        self.C = C.astype('float')  # <--- (7) should be a 2d numpy array\n",
    "        \n",
    "        # Define controller and observer gains\n",
    "        self.K = K.astype('float') # <--- (8) should be a 2d numpy array\n",
    "        self.L = L.astype('float')  # <--- (9) should be a 2d numpy array\n",
    "        self.variables_to_log = ['xhat']\n",
    "        # Run the retset function to initialize the state estimate\n",
    "        self.reset()\n",
    "    \n",
    "    def reset(self):\n",
    "        self.xhat = np.array([[0.],[0.],[0.],[0.],[0.],[0.]]).astype('float')\n",
    "    \n",
    "    def run(self, t, star_meas):\n",
    "\n",
    "        \"\"\"\n",
    "        star_meas is a 1d array of length 14 - the image coordinates\n",
    "        y_i and z_i of the i'th star (for i = 0, ..., 6) are at index\n",
    "        2*i and 2*i+1 of this array, respectively\n",
    "        \"\"\"\n",
    "        u = (-self.K@self.xhat).astype('float') # <--- (11) Don't forget to use the state estimate and not the state!\n",
    "        \n",
    "        # Convert input to actuator commands\n",
    "        tau = (u+ self.tau_e).astype('float') # <--- (12) Don't forget to extract the torque and add the equilibrium value!\n",
    "        \n",
    "        # Define output\n",
    "        y = np.array(np.array([star_meas]).T-(self.g_e))# <--- (13) Don't forget that this is defined using the sensor measurement q\n",
    "                 #           and not the state estimate! It should be a 1d numpy array.\n",
    "        \n",
    "        # Apply observer to update state estimate\n",
    "#         print(self.xhat.shape)\n",
    "#         print(self.A.shape)\n",
    "#         print(self.B.shape)\n",
    "#         print(u.shape)\n",
    "#         print((self.A @ self.xhat).shape)\n",
    "#         print((self.B @ u).shape)\n",
    "#         print((self.A@self.xhat + self.B@u).shape)\n",
    "#         print(y.shape)\n",
    "#         print(self.g_e.shape)\n",
    "#         print(self.L.shape)\n",
    "#         print(self.K.shape)\n",
    "#         print(self.C.shape)\n",
    "#         print(star_meas.shape)\n",
    "#         print(u)\n",
    "#         print(self.tau_e)\n",
    "#         print(tau)\n",
    "    \n",
    "        self.xhat += self.dt * (self.A@self.xhat + self.B@u - self.L@(self.C@self.xhat-y)) # <--- (14) Note the syntax: \"+=\" means that we are adding something to\n",
    "                        #           self.xhat - this is equivalent to saying:\n",
    "                        #\n",
    "                        #               self.xhat = self.xhat + 0.\n",
    "        # FIXME: replace the following lines\n",
    "        front_torque = tau[0][0]\n",
    "        back_torque = tau[1][0]\n",
    "        left_torque = tau[2][0]\n",
    "        right_torque = tau[3][0]\n",
    "        \n",
    "        \n",
    "        return front_torque, back_torque, left_torque, right_torque"
   ]
  },
  {
   "cell_type": "code",
   "execution_count": 84,
   "id": "68153df5",
   "metadata": {},
   "outputs": [
    {
     "data": {
      "image/png": "[encoded data removed]",
      "text/plain": [
       "<Figure size 864x432 with 2 Axes>"
      ]
     },
     "metadata": {
      "needs_background": "light"
     },
     "output_type": "display_data"
    }
   ],
   "source": [
    "controller = Controller()\n",
    "######\n",
    "# simulator.reset(\n",
    "#     orientation={\n",
    "#         'yaw': 0.,\n",
    "#         'pitch': 0.,\n",
    "#         'roll': 0.,\n",
    "#     },\n",
    "#     angular_velocity={\n",
    "#         'x': 0.,\n",
    "#         'y': 0.,\n",
    "#         'z': 0.,\n",
    "#     },\n",
    "#     scope_noise=0.1,\n",
    "# )\n",
    "\n",
    "simulator.reset(\n",
    "    orientation=None,\n",
    "    angular_velocity=None,\n",
    "    scope_noise=0.1,\n",
    ")\n",
    "########\n",
    "controller.reset()\n",
    "########\n",
    "data = simulator.run(\n",
    "    controller,           # <-- required (an instance of your Controller class)\n",
    "    max_time=60.0,         # <-- optional (how long you want to run the simulation in seconds)\n",
    "    data_filename=None,   # <-- optional (name of file to which you want data saved, e.g., 'my_data.json')\n",
    "    video_filename=None,  # <-- optional (name of file to which you want video saved, e.g., 'my_video.mov')\n",
    "    print_debug=False,    # <-- optional (whether to print debug text - this is recommended when saving video)\n",
    ")\n",
    "#########\n",
    "# Create a figure with three subplots, all of which share the same x-axis\n",
    "fig, (ax_ori, ax_rwvel) = plt.subplots(2, 1, figsize=(12, 6), sharex=True)\n",
    "\n",
    "# Plot yaw, pitch, roll angles\n",
    "ax_ori.plot(data['t'], data['yaw'], label='yaw (rad)', linewidth=4)\n",
    "ax_ori.plot(data['t'], data['pitch'], label='pitch (rad)', linewidth=4)\n",
    "ax_ori.plot(data['t'], data['roll'], label='roll (rad)', linewidth=4)\n",
    "ax_ori.grid()\n",
    "ax_ori.legend(fontsize=16, ncol=3, loc='upper right')\n",
    "ax_ori.tick_params(labelsize=14)\n",
    "\n",
    "# # Plot x, y, z components of angular velocity\n",
    "# ax_vel.plot(data['t'], data['w_x'], label=r'$w_x$ (rad/s)', linewidth=4)\n",
    "# ax_vel.plot(data['t'], data['w_y'], label=r'$w_y$ (rad/s)', linewidth=4)\n",
    "# ax_vel.plot(data['t'], data['w_z'], label=r'$w_z$ (rad/s)', linewidth=4)\n",
    "# ax_vel.grid()\n",
    "# ax_vel.legend(fontsize=16, ncol=3, loc='upper right')\n",
    "# ax_vel.tick_params(labelsize=14)\n",
    "\n",
    "# # Plot angular velocity of each reaction wheel\n",
    "ax_rwvel.plot(data['t'], data['front_velocity'], label=r'$v_1$ (rad/s)', linewidth=4)\n",
    "ax_rwvel.plot(data['t'], data['back_velocity'], label=r'$v_2$ (rad/s)', linewidth=4)\n",
    "ax_rwvel.plot(data['t'], data['left_velocity'], label=r'$v_3$ (rad/s)', linewidth=4)\n",
    "ax_rwvel.plot(data['t'], data['right_velocity'], label=r'$v_4$ (rad/s)', linewidth=4)\n",
    "ax_rwvel.plot(\n",
    "    data['t'], np.ones_like(data['t']) * simulator.v_max,\n",
    "    ':', linewidth=4, color='C4', zorder=0,\n",
    ")\n",
    "ax_rwvel.plot(\n",
    "    data['t'], -np.ones_like(data['t']) * simulator.v_max,\n",
    "    ':', linewidth=4, color='C4', zorder=0,\n",
    ")\n",
    "ax_rwvel.grid()\n",
    "ax_rwvel.legend(fontsize=16, ncol=4, loc='upper right')\n",
    "ax_rwvel.tick_params(labelsize=14)\n",
    "ax_rwvel.set_ylim(-1.2 * simulator.v_max, 1.2 * simulator.v_max)\n",
    "\n",
    "# # Plot torque applied to each reaction wheel\n",
    "# ax_rwtau.plot(data['t'], data['front_torque'], label=r'$\\tau_1$ (N-m)', linewidth=4)\n",
    "# ax_rwtau.plot(data['t'], data['back_torque'], label=r'$\\tau_2$ (N-m)', linewidth=4)\n",
    "# ax_rwtau.plot(data['t'], data['left_torque'], label=r'$\\tau_3$ (N-m)', linewidth=4)\n",
    "# ax_rwtau.plot(data['t'], data['right_torque'], label=r'$\\tau_4$ (N-m)', linewidth=4)\n",
    "# ax_rwtau.plot(\n",
    "#     data['t'], np.ones_like(data['t']) * simulator.tau_max,\n",
    "#     ':', linewidth=4, color='C4', zorder=0,\n",
    "# )\n",
    "# ax_rwtau.plot(\n",
    "#     data['t'], -np.ones_like(data['t']) * simulator.tau_max,\n",
    "#     ':', linewidth=4, color='C4', zorder=0,\n",
    "# )\n",
    "# ax_rwtau.grid()\n",
    "# ax_rwtau.legend(fontsize=16, ncol=4, loc='upper right')\n",
    "# ax_rwtau.tick_params(labelsize=14)\n",
    "\n",
    "\n",
    "# # Set x-axis properties (only need to do this on the last\n",
    "# # subplot since all subplots share the same x-axis)\n",
    "ax_rwvel.set_xlabel('time (s)', fontsize=20)\n",
    "ax_rwvel.set_xlim([data['t'][0], data['t'][-1]])\n",
    "# ax_rwvel.set_ylim(-1.2 * simulator.tau_max, 1.2 * simulator.tau_max)\n",
    "\n",
    "# Make the arrangement of subplots look nice\n",
    "fig.tight_layout()\n",
    "##########"
   ]
  },
  {
   "cell_type": "markdown",
   "id": "fa653838",
   "metadata": {},
   "source": [
    "# 100 Simulations"
   ]
  },
  {
   "cell_type": "code",
   "execution_count": 96,
   "id": "ef0f9dd9",
   "metadata": {},
   "outputs": [
    {
     "data": {
      "text/plain": [
       "dict_keys(['t', 'yaw', 'pitch', 'roll', 'w_x', 'w_y', 'w_z', 'front_torque', 'back_torque', 'left_torque', 'right_torque', 'front_torque_command', 'back_torque_command', 'left_torque_command', 'right_torque_command', 'front_velocity', 'back_velocity', 'left_velocity', 'right_velocity', 'star_meas', 'xhat'])"
      ]
     },
     "execution_count": 96,
     "metadata": {},
     "output_type": "execute_result"
    }
   ],
   "source": [
    "data.keys()"
   ]
  },
  {
   "cell_type": "code",
   "execution_count": 101,
   "id": "177af15f",
   "metadata": {},
   "outputs": [
    {
     "data": {
      "text/plain": [
       "array([[1, 4],\n",
       "       [2, 5],\n",
       "       [3, 6]])"
      ]
     },
     "execution_count": 101,
     "metadata": {},
     "output_type": "execute_result"
    }
   ],
   "source": [
    "testyaw = [1,2,3]\n",
    "testpitch = [4,5,6]\n",
    "np.array([testyaw,testpitch]).T"
   ]
  },
  {
   "cell_type": "code",
   "execution_count": 99,
   "id": "08716f18",
   "metadata": {},
   "outputs": [
    {
     "name": "stdout",
     "output_type": "stream",
     "text": [
      "0.030770172837952393\n"
     ]
    }
   ],
   "source": [
    "# y_actual = data['star_meas']\n",
    "y_predicted = data['xhat']\n",
    "y_actual = np.array([data['yaw'],data['pitch'],data['roll'],data['w_x'],data['w_y'],data['w_z']])\n",
    "MSE = np.square(y_actual.T - y_predicted).mean()\n",
    "RMSE = np.sqrt(MSE)\n",
    "print(RMSE)"
   ]
  },
  {
   "cell_type": "code",
   "execution_count": 78,
   "id": "83931458",
   "metadata": {},
   "outputs": [
    {
     "name": "stdout",
     "output_type": "stream",
     "text": [
      "908\n"
     ]
    }
   ],
   "source": [
    "def run_simulation():\n",
    "    controller = Controller()\n",
    "    simulator.reset(\n",
    "        orientation=None,\n",
    "        angular_velocity=None,\n",
    "        scope_noise=0.1,\n",
    "    )\n",
    "    ########\n",
    "    controller.reset()\n",
    "    ########\n",
    "    data = simulator.run(\n",
    "        controller,           # <-- required (an instance of your Controller class)\n",
    "        max_time=65.0,         # <-- optional (how long you want to run the simulation in seconds)\n",
    "        data_filename=None,   # <-- optional (name of file to which you want data saved, e.g., 'my_data.json')\n",
    "        video_filename=None,  # <-- optional (name of file to which you want video saved, e.g., 'my_video.mov')\n",
    "        print_debug=False,    # <-- optional (whether to print debug text - this is recommended when saving video)\n",
    "    )\n",
    "    t = data['t'][-1]\n",
    "    if t < .5:\n",
    "        return False\n",
    "    else:\n",
    "        yaw = data['yaw'][0]\n",
    "        pitch = data['pitch'][0]\n",
    "        roll = data['roll'][0]\n",
    "        return t,yaw,pitch,roll\n",
    "\n",
    "i = 1000\n",
    "times = []\n",
    "bad_times = []\n",
    "initial_yaws = []\n",
    "initial_pitches = []\n",
    "initial_rolls = []\n",
    "while i > 0:\n",
    "    sim_data = run_simulation()\n",
    "    if sim_data == False:\n",
    "        i = i-1\n",
    "    else:\n",
    "        times.append(sim_data[0])\n",
    "        initial_yaws.append(sim_data[1])\n",
    "        initial_pitches.append(sim_data[2]) \n",
    "        initial_rolls.append(sim_data[3])\n",
    "        i = i-1\n",
    "    \n",
    "        \n",
    "\n",
    "print(len(times))\n",
    "# good_times = times[(times >= 15.0)]\n",
    "# len(good_times)"
   ]
  },
  {
   "cell_type": "code",
   "execution_count": 79,
   "id": "910d0096",
   "metadata": {},
   "outputs": [
    {
     "data": {
      "image/png": "[encoded data removed]",
      "text/plain": [
       "<Figure size 432x288 with 1 Axes>"
      ]
     },
     "metadata": {
      "needs_background": "light"
     },
     "output_type": "display_data"
    },
    {
     "data": {
      "image/png": "[encoded data removed]",
      "text/latex": [
       "$\\displaystyle 0.512114537444934$"
      ],
      "text/plain": [
       "0.512114537444934"
      ]
     },
     "execution_count": 79,
     "metadata": {},
     "output_type": "execute_result"
    }
   ],
   "source": [
    "plt.hist(times)\n",
    "plt.show()\n",
    "#print(times)\n",
    "good_times = [i for idx, i in enumerate(times) if times[idx] >= 60]\n",
    "len(good_times)/len(times)"
   ]
  },
  {
   "cell_type": "code",
   "execution_count": 77,
   "id": "3877c6ee",
   "metadata": {},
   "outputs": [
    {
     "data": {
      "text/plain": [
       "<matplotlib.legend.Legend at 0x13928bb50>"
      ]
     },
     "execution_count": 77,
     "metadata": {},
     "output_type": "execute_result"
    },
    {
     "data": {
      "image/png": "[encoded data removed]",
      "text/plain": [
       "<Figure size 432x288 with 1 Axes>"
      ]
     },
     "metadata": {
      "needs_background": "light"
     },
     "output_type": "display_data"
    }
   ],
   "source": [
    "plt.scatter(initial_yaws,times, color = 'blue', label = 'yaw')\n",
    "\n",
    "plt.legend()"
   ]
  },
  {
   "cell_type": "code",
   "execution_count": 68,
   "id": "99387942",
   "metadata": {},
   "outputs": [
    {
     "data": {
      "text/plain": [
       "<matplotlib.collections.PathCollection at 0x138b81300>"
      ]
     },
     "execution_count": 68,
     "metadata": {},
     "output_type": "execute_result"
    },
    {
     "data": {
      "image/png": "[encoded data removed]",
      "text/plain": [
       "<Figure size 432x288 with 1 Axes>"
      ]
     },
     "metadata": {
      "needs_background": "light"
     },
     "output_type": "display_data"
    }
   ],
   "source": [
    "plt.scatter(initial_pitches,times,color = 'red', label = 'pitch')"
   ]
  },
  {
   "cell_type": "code",
   "execution_count": 69,
   "id": "7cb4e06f",
   "metadata": {},
   "outputs": [
    {
     "data": {
      "text/plain": [
       "<matplotlib.collections.PathCollection at 0x138dd4f70>"
      ]
     },
     "execution_count": 69,
     "metadata": {},
     "output_type": "execute_result"
    },
    {
     "data": {
      "image/png": "[encoded data removed]",
      "text/plain": [
       "<Figure size 432x288 with 1 Axes>"
      ]
     },
     "metadata": {
      "needs_background": "light"
     },
     "output_type": "display_data"
    }
   ],
   "source": [
    "plt.scatter(initial_rolls,times,color = 'y', label = 'roll')"
   ]
  },
  {
   "cell_type": "code",
   "execution_count": 70,
   "id": "b8842aaa",
   "metadata": {},
   "outputs": [
    {
     "data": {
      "text/plain": [
       "<mpl_toolkits.mplot3d.art3d.Path3DCollection at 0x138cb66e0>"
      ]
     },
     "execution_count": 70,
     "metadata": {},
     "output_type": "execute_result"
    },
    {
     "data": {
      "image/png": "[encoded data removed]",
      "text/plain": [
       "<Figure size 432x288 with 1 Axes>"
      ]
     },
     "metadata": {
      "needs_background": "light"
     },
     "output_type": "display_data"
    }
   ],
   "source": [
    "from mpl_toolkits import mplot3d\n",
    "%matplotlib inline\n",
    "import numpy as np\n",
    "import matplotlib.pyplot as plt\n",
    "fig = plt.figure()\n",
    "ax = plt.axes(projection='3d')\n",
    "ax.scatter3D(initial_yaws, initial_pitches, initial_rolls, c=times)"
   ]
  },
  {
   "cell_type": "markdown",
   "id": "1ca34cf8",
   "metadata": {},
   "source": [
    "Create an instance of the controller."
   ]
  },
  {
   "cell_type": "code",
   "execution_count": 28,
   "id": "19f1cf38",
   "metadata": {},
   "outputs": [],
   "source": [
    "controller = Controller()"
   ]
  },
  {
   "cell_type": "code",
   "execution_count": 29,
   "id": "266351c4",
   "metadata": {},
   "outputs": [
    {
     "name": "stderr",
     "output_type": "stream",
     "text": [
      "/var/folders/r_/l306ffw14t12khw6vmzm9vcr0000gn/T/ipykernel_48124/1444708970.py:2: DeprecationWarning: randrange() will raise TypeError in the future\n",
      "  random.randrange(-.5,.5)\n"
     ]
    },
    {
     "ename": "ValueError",
     "evalue": "non-integer arg 1 for randrange()",
     "output_type": "error",
     "traceback": [
      "\u001b[0;31m---------------------------------------------------------------------------\u001b[0m",
      "\u001b[0;31mTypeError\u001b[0m                                 Traceback (most recent call last)",
      "File \u001b[0;32m~/opt/anaconda3/envs/ae353/lib/python3.10/random.py:303\u001b[0m, in \u001b[0;36mRandom.randrange\u001b[0;34m(self, start, stop, step)\u001b[0m\n\u001b[1;32m    302\u001b[0m \u001b[38;5;28;01mtry\u001b[39;00m:\n\u001b[0;32m--> 303\u001b[0m     istart \u001b[38;5;241m=\u001b[39m \u001b[43m_index\u001b[49m\u001b[43m(\u001b[49m\u001b[43mstart\u001b[49m\u001b[43m)\u001b[49m\n\u001b[1;32m    304\u001b[0m \u001b[38;5;28;01mexcept\u001b[39;00m \u001b[38;5;167;01mTypeError\u001b[39;00m:\n",
      "\u001b[0;31mTypeError\u001b[0m: 'float' object cannot be interpreted as an integer",
      "\nDuring handling of the above exception, another exception occurred:\n",
      "\u001b[0;31mValueError\u001b[0m                                Traceback (most recent call last)",
      "Input \u001b[0;32mIn [29]\u001b[0m, in \u001b[0;36m<module>\u001b[0;34m\u001b[0m\n\u001b[1;32m      1\u001b[0m \u001b[38;5;28;01mimport\u001b[39;00m \u001b[38;5;21;01mrandom\u001b[39;00m \n\u001b[0;32m----> 2\u001b[0m \u001b[43mrandom\u001b[49m\u001b[38;5;241;43m.\u001b[39;49m\u001b[43mrandrange\u001b[49m\u001b[43m(\u001b[49m\u001b[38;5;241;43m-\u001b[39;49m\u001b[38;5;241;43m.5\u001b[39;49m\u001b[43m,\u001b[49m\u001b[38;5;241;43m.5\u001b[39;49m\u001b[43m)\u001b[49m\n",
      "File \u001b[0;32m~/opt/anaconda3/envs/ae353/lib/python3.10/random.py:309\u001b[0m, in \u001b[0;36mRandom.randrange\u001b[0;34m(self, start, stop, step)\u001b[0m\n\u001b[1;32m    306\u001b[0m     \u001b[38;5;28;01mif\u001b[39;00m istart \u001b[38;5;241m!=\u001b[39m start:\n\u001b[1;32m    307\u001b[0m         _warn(\u001b[38;5;124m'\u001b[39m\u001b[38;5;124mrandrange() will raise TypeError in the future\u001b[39m\u001b[38;5;124m'\u001b[39m,\n\u001b[1;32m    308\u001b[0m               \u001b[38;5;167;01mDeprecationWarning\u001b[39;00m, \u001b[38;5;241m2\u001b[39m)\n\u001b[0;32m--> 309\u001b[0m         \u001b[38;5;28;01mraise\u001b[39;00m \u001b[38;5;167;01mValueError\u001b[39;00m(\u001b[38;5;124m\"\u001b[39m\u001b[38;5;124mnon-integer arg 1 for randrange()\u001b[39m\u001b[38;5;124m\"\u001b[39m)\n\u001b[1;32m    310\u001b[0m     _warn(\u001b[38;5;124m'\u001b[39m\u001b[38;5;124mnon-integer arguments to randrange() have been deprecated \u001b[39m\u001b[38;5;124m'\u001b[39m\n\u001b[1;32m    311\u001b[0m           \u001b[38;5;124m'\u001b[39m\u001b[38;5;124msince Python 3.10 and will be removed in a subsequent \u001b[39m\u001b[38;5;124m'\u001b[39m\n\u001b[1;32m    312\u001b[0m           \u001b[38;5;124m'\u001b[39m\u001b[38;5;124mversion\u001b[39m\u001b[38;5;124m'\u001b[39m,\n\u001b[1;32m    313\u001b[0m           \u001b[38;5;167;01mDeprecationWarning\u001b[39;00m, \u001b[38;5;241m2\u001b[39m)\n\u001b[1;32m    314\u001b[0m \u001b[38;5;28;01mif\u001b[39;00m stop \u001b[38;5;129;01mis\u001b[39;00m \u001b[38;5;28;01mNone\u001b[39;00m:\n\u001b[1;32m    315\u001b[0m     \u001b[38;5;66;03m# We don't check for \"step != 1\" because it hasn't been\u001b[39;00m\n\u001b[1;32m    316\u001b[0m     \u001b[38;5;66;03m# type checked and converted to an integer yet.\u001b[39;00m\n",
      "\u001b[0;31mValueError\u001b[0m: non-integer arg 1 for randrange()"
     ]
    }
   ],
   "source": [
    "import random \n",
    "random.randrange(-.5,.5)"
   ]
  },
  {
   "cell_type": "markdown",
   "id": "97aebd50",
   "metadata": {},
   "source": [
    "You could reset the simulator with given initial conditions, optionally specifying scope noise (default is `0.1`), i.e., the standard deviation of the $y$ and $z$ components of each star tracker measurement."
   ]
  },
  {
   "cell_type": "code",
   "execution_count": null,
   "id": "a5f14a4e",
   "metadata": {},
   "outputs": [],
   "source": [
    "simulator.reset(\n",
    "    orientation={\n",
    "        'yaw': 0.,\n",
    "        'pitch': 0.,\n",
    "        'roll': 0.,\n",
    "    },\n",
    "    angular_velocity={\n",
    "        'x': 0.,\n",
    "        'y': 0.,\n",
    "        'z': 0.,\n",
    "    },\n",
    "    scope_noise=0.1,\n",
    ")"
   ]
  },
  {
   "cell_type": "markdown",
   "id": "ad10de85",
   "metadata": {},
   "source": [
    "Or, you could reset the simulator with initial conditions sampled at random."
   ]
  },
  {
   "cell_type": "code",
   "execution_count": null,
   "id": "083a6c8b",
   "metadata": {},
   "outputs": [],
   "source": [
    "simulator.reset(\n",
    "    orientation=None,\n",
    "    angular_velocity=None,\n",
    "    scope_noise=0.1,\n",
    ")"
   ]
  },
  {
   "cell_type": "markdown",
   "id": "aef9d44f",
   "metadata": {},
   "source": [
    "Reset the controller."
   ]
  },
  {
   "cell_type": "code",
   "execution_count": null,
   "id": "3942f164",
   "metadata": {},
   "outputs": [],
   "source": [
    "controller.reset()"
   ]
  },
  {
   "cell_type": "markdown",
   "id": "0dd591aa",
   "metadata": {},
   "source": [
    "Run the simulator. It will quit when one of the following conditions is satisfied:\n",
    "\n",
    "* Any star goes out of view of the scope.\n",
    "* Any reaction wheel has angular velocity exceeding +/- 50 rad/s.\n",
    "* The maximum time is reached."
   ]
  },
  {
   "cell_type": "code",
   "execution_count": null,
   "id": "f9872edb",
   "metadata": {},
   "outputs": [],
   "source": [
    "data = simulator.run(\n",
    "    controller,           # <-- required (an instance of your Controller class)\n",
    "    max_time=60.0,         # <-- optional (how long you want to run the simulation in seconds)\n",
    "    data_filename=None,   # <-- optional (name of file to which you want data saved, e.g., 'my_data.json')\n",
    "    video_filename=None,  # <-- optional (name of file to which you want video saved, e.g., 'my_video.mov')\n",
    "    print_debug=False,    # <-- optional (whether to print debug text - this is recommended when saving video)\n",
    ")"
   ]
  },
  {
   "cell_type": "markdown",
   "id": "5f48339a",
   "metadata": {},
   "source": [
    "Get, show, and save a snapshot of the simulation after the last time step."
   ]
  },
  {
   "cell_type": "code",
   "execution_count": null,
   "id": "bdb853b4",
   "metadata": {},
   "outputs": [],
   "source": [
    "# Get snapshot as height x width x 4 numpy array of RGBA values\n",
    "rgba = simulator.snapshot()\n",
    "\n",
    "# Display snapshot\n",
    "plt.figure(figsize=(8, 8))\n",
    "plt.imshow(rgba)\n",
    "\n",
    "# Save snapshot\n",
    "plt.imsave('my_snapshot.png', rgba)"
   ]
  },
  {
   "cell_type": "markdown",
   "id": "6edf0f67",
   "metadata": {},
   "source": [
    "Plot the results."
   ]
  },
  {
   "cell_type": "code",
   "execution_count": null,
   "id": "42f0f966",
   "metadata": {},
   "outputs": [],
   "source": [
    "# Create a figure with three subplots, all of which share the same x-axis\n",
    "fig, (ax_ori, ax_vel, ax_rwvel, ax_rwtau) = plt.subplots(4, 1, figsize=(10, 10), sharex=True)\n",
    "\n",
    "# Plot yaw, pitch, roll angles\n",
    "ax_ori.plot(data['t'], data['yaw'], label='yaw (rad)', linewidth=4)\n",
    "ax_ori.plot(data['t'], data['pitch'], label='pitch (rad)', linewidth=4)\n",
    "ax_ori.plot(data['t'], data['roll'], label='roll (rad)', linewidth=4)\n",
    "ax_ori.grid()\n",
    "ax_ori.legend(fontsize=16, ncol=3, loc='upper right')\n",
    "ax_ori.tick_params(labelsize=14)\n",
    "\n",
    "# Plot x, y, z components of angular velocity\n",
    "ax_vel.plot(data['t'], data['w_x'], label=r'$w_x$ (rad/s)', linewidth=4)\n",
    "ax_vel.plot(data['t'], data['w_y'], label=r'$w_y$ (rad/s)', linewidth=4)\n",
    "ax_vel.plot(data['t'], data['w_z'], label=r'$w_z$ (rad/s)', linewidth=4)\n",
    "ax_vel.grid()\n",
    "ax_vel.legend(fontsize=16, ncol=3, loc='upper right')\n",
    "ax_vel.tick_params(labelsize=14)\n",
    "\n",
    "# Plot angular velocity of each reaction wheel\n",
    "ax_rwvel.plot(data['t'], data['front_velocity'], label=r'$v_1$ (rad/s)', linewidth=4)\n",
    "ax_rwvel.plot(data['t'], data['back_velocity'], label=r'$v_2$ (rad/s)', linewidth=4)\n",
    "ax_rwvel.plot(data['t'], data['left_velocity'], label=r'$v_3$ (rad/s)', linewidth=4)\n",
    "ax_rwvel.plot(data['t'], data['right_velocity'], label=r'$v_4$ (rad/s)', linewidth=4)\n",
    "ax_rwvel.plot(\n",
    "    data['t'], np.ones_like(data['t']) * simulator.v_max,\n",
    "    ':', linewidth=4, color='C4', zorder=0,\n",
    ")\n",
    "ax_rwvel.plot(\n",
    "    data['t'], -np.ones_like(data['t']) * simulator.v_max,\n",
    "    ':', linewidth=4, color='C4', zorder=0,\n",
    ")\n",
    "ax_rwvel.grid()\n",
    "ax_rwvel.legend(fontsize=16, ncol=4, loc='upper right')\n",
    "ax_rwvel.tick_params(labelsize=14)\n",
    "ax_rwvel.set_ylim(-1.2 * simulator.v_max, 1.2 * simulator.v_max)\n",
    "\n",
    "# Plot torque applied to each reaction wheel\n",
    "ax_rwtau.plot(data['t'], data['front_torque'], label=r'$\\tau_1$ (N-m)', linewidth=4)\n",
    "ax_rwtau.plot(data['t'], data['back_torque'], label=r'$\\tau_2$ (N-m)', linewidth=4)\n",
    "ax_rwtau.plot(data['t'], data['left_torque'], label=r'$\\tau_3$ (N-m)', linewidth=4)\n",
    "ax_rwtau.plot(data['t'], data['right_torque'], label=r'$\\tau_4$ (N-m)', linewidth=4)\n",
    "ax_rwtau.plot(\n",
    "    data['t'], np.ones_like(data['t']) * simulator.tau_max,\n",
    "    ':', linewidth=4, color='C4', zorder=0,\n",
    ")\n",
    "ax_rwtau.plot(\n",
    "    data['t'], -np.ones_like(data['t']) * simulator.tau_max,\n",
    "    ':', linewidth=4, color='C4', zorder=0,\n",
    ")\n",
    "ax_rwtau.grid()\n",
    "ax_rwtau.legend(fontsize=16, ncol=4, loc='upper right')\n",
    "ax_rwtau.tick_params(labelsize=14)\n",
    "\n",
    "\n",
    "# Set x-axis properties (only need to do this on the last\n",
    "# subplot since all subplots share the same x-axis)\n",
    "ax_rwtau.set_xlabel('time (s)', fontsize=20)\n",
    "ax_rwtau.set_xlim([data['t'][0], data['t'][-1]])\n",
    "ax_rwtau.set_ylim(-1.2 * simulator.tau_max, 1.2 * simulator.tau_max)\n",
    "\n",
    "# Make the arrangement of subplots look nice\n",
    "fig.tight_layout()"
   ]
  },
  {
   "cell_type": "markdown",
   "id": "c7f17c2b",
   "metadata": {},
   "source": [
    "Save the figure (without transparent background)."
   ]
  },
  {
   "cell_type": "code",
   "execution_count": null,
   "id": "c3aae142",
   "metadata": {},
   "outputs": [],
   "source": [
    "fig.savefig('my_figure.png', facecolor='white', transparent=False)"
   ]
  },
  {
   "cell_type": "markdown",
   "id": "55bd2ff0",
   "metadata": {},
   "source": [
    "Plot star positions in image. This is not necessarily a useful thing to plot. The point is to show how to access measurements of star position from logged data."
   ]
  },
  {
   "cell_type": "code",
   "execution_count": null,
   "id": "b012cfaf",
   "metadata": {},
   "outputs": [],
   "source": [
    "fig, ax = plt.subplots(1, 1, figsize=(9, 9))\n",
    "for i in range(len(simulator.stars)):\n",
    "    y = data['star_meas'][:, 2 * i]\n",
    "    z = data['star_meas'][:, 2 * i + 1]\n",
    "    ax.plot(-y, z, label=f'star {i}', linewidth=0.5, marker='.', markersize=10)\n",
    "ax.grid()\n",
    "ax.legend(fontsize=16)\n",
    "ax.tick_params(labelsize=14)\n",
    "ax.set_xlim(-1., 1.)\n",
    "ax.set_ylim(-1., 1.)"
   ]
  },
  {
   "cell_type": "code",
   "execution_count": null,
   "id": "51b75fb0",
   "metadata": {},
   "outputs": [],
   "source": []
  }
 ],
 "metadata": {
  "kernelspec": {
   "display_name": "Python 3 (ipykernel)",
   "language": "python",
   "name": "python3"
  },
  "language_info": {
   "codemirror_mode": {
    "name": "ipython",
    "version": 3
   },
   "file_extension": ".py",
   "mimetype": "text/x-python",
   "name": "python",
   "nbconvert_exporter": "python",
   "pygments_lexer": "ipython3",
   "version": "3.10.2"
  }
 },
 "nbformat": 4,
 "nbformat_minor": 5
}
